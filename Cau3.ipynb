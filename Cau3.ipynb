{
  "nbformat": 4,
  "nbformat_minor": 0,
  "metadata": {
    "colab": {
      "provenance": [],
      "authorship_tag": "ABX9TyOILImJR0y5KIVIrJ0Zp+92",
      "include_colab_link": true
    },
    "kernelspec": {
      "name": "python3",
      "display_name": "Python 3"
    },
    "language_info": {
      "name": "python"
    }
  },
  "cells": [
    {
      "cell_type": "markdown",
      "metadata": {
        "id": "view-in-github",
        "colab_type": "text"
      },
      "source": [
        "<a href=\"https://colab.research.google.com/github/DTH235688-VoAnhKiet/DTH235688-VoAnhKiet-BaiTap1/blob/main/Cau3.ipynb\" target=\"_parent\"><img src=\"https://colab.research.google.com/assets/colab-badge.svg\" alt=\"Open In Colab\"/></a>"
      ]
    },
    {
      "cell_type": "code",
      "execution_count": 1,
      "metadata": {
        "colab": {
          "base_uri": "https://localhost:8080/"
        },
        "id": "IbMoyZQfWd63",
        "outputId": "ef9a2d1a-bc8a-457f-fb28-21ba0456d223"
      },
      "outputs": [
        {
          "output_type": "stream",
          "name": "stdout",
          "text": [
            "Nhap So Thu Nhat: 3\n",
            "Nhap So Thu Hai: 4\n",
            "Tong 2 so =   3 + 4 = 7\n"
          ]
        }
      ],
      "source": [
        "#chuong trinh tinh tong hai so\n",
        "#nhap so\n",
        "so1 = int(input(\"Nhap So Thu Nhat: \"));\n",
        "so2 = int(input(\"Nhap So Thu Hai: \"));\n",
        "\n",
        "#tinh tong\n",
        "tong = so1 + so2;\n",
        "\n",
        "#hien thi ket qua\n",
        "print(\"Tong 2 so =  \",so1 ,\"+\" , so2,\"=\",tong);"
      ]
    }
  ]
}